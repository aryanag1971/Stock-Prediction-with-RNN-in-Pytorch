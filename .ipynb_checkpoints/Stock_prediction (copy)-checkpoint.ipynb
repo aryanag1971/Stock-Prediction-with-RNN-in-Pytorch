{
 "cells": [
  {
   "cell_type": "code",
   "execution_count": 1,
   "metadata": {
    "id": "633505ae",
    "outputId": "974efaaf-5d1e-41a9-e224-6edbe465b1a1"
   },
   "outputs": [
    {
     "name": "stdout",
     "output_type": "stream",
     "text": [
      "Requirement already satisfied: pandas-datareader in /home/aryan/anaconda3/envs/pytorch/lib/python3.8/site-packages (0.9.0)\n",
      "Requirement already satisfied: lxml in /home/aryan/anaconda3/envs/pytorch/lib/python3.8/site-packages (from pandas-datareader) (4.6.3)\n",
      "Requirement already satisfied: requests>=2.19.0 in /home/aryan/anaconda3/envs/pytorch/lib/python3.8/site-packages (from pandas-datareader) (2.25.1)\n",
      "Requirement already satisfied: pandas>=0.23 in /home/aryan/anaconda3/envs/pytorch/lib/python3.8/site-packages (from pandas-datareader) (1.1.3)\n",
      "Requirement already satisfied: urllib3<1.27,>=1.21.1 in /home/aryan/anaconda3/envs/pytorch/lib/python3.8/site-packages (from requests>=2.19.0->pandas-datareader) (1.26.6)\n",
      "Requirement already satisfied: idna<3,>=2.5 in /home/aryan/anaconda3/envs/pytorch/lib/python3.8/site-packages (from requests>=2.19.0->pandas-datareader) (2.10)\n",
      "Requirement already satisfied: chardet<5,>=3.0.2 in /home/aryan/anaconda3/envs/pytorch/lib/python3.8/site-packages (from requests>=2.19.0->pandas-datareader) (4.0.0)\n",
      "Requirement already satisfied: certifi>=2017.4.17 in /home/aryan/anaconda3/envs/pytorch/lib/python3.8/site-packages (from requests>=2.19.0->pandas-datareader) (2021.5.30)\n",
      "Requirement already satisfied: numpy>=1.15.4 in /home/aryan/anaconda3/envs/pytorch/lib/python3.8/site-packages (from pandas>=0.23->pandas-datareader) (1.19.5)\n",
      "Requirement already satisfied: pytz>=2017.2 in /home/aryan/anaconda3/envs/pytorch/lib/python3.8/site-packages (from pandas>=0.23->pandas-datareader) (2020.1)\n",
      "Requirement already satisfied: python-dateutil>=2.7.3 in /home/aryan/anaconda3/envs/pytorch/lib/python3.8/site-packages (from pandas>=0.23->pandas-datareader) (2.8.1)\n",
      "Requirement already satisfied: six>=1.5 in /home/aryan/anaconda3/envs/pytorch/lib/python3.8/site-packages (from python-dateutil>=2.7.3->pandas>=0.23->pandas-datareader) (1.15.0)\n",
      "Note: you may need to restart the kernel to use updated packages.\n"
     ]
    }
   ],
   "source": [
    "pip install pandas-datareader\n"
   ]
  },
  {
   "cell_type": "code",
   "execution_count": 2,
   "metadata": {
    "id": "36f88067"
   },
   "outputs": [],
   "source": [
    "import pandas_datareader as pdr\n",
    "key=\"6243031f9991b62cb727c1fe2f25528c234e42d9\""
   ]
  },
  {
   "cell_type": "code",
   "execution_count": 3,
   "metadata": {
    "id": "89d1220f"
   },
   "outputs": [],
   "source": [
    "df=pdr.get_data_tiingo('AAPL',api_key=key)"
   ]
  },
  {
   "cell_type": "code",
   "execution_count": 4,
   "metadata": {
    "id": "757c00ca"
   },
   "outputs": [],
   "source": [
    "df.to_csv('AAPL.csv')"
   ]
  },
  {
   "cell_type": "code",
   "execution_count": 1,
   "metadata": {
    "id": "129eef72"
   },
   "outputs": [],
   "source": [
    "import pandas as pd\n",
    "df=pd.read_csv('sum.csv')"
   ]
  },
  {
   "cell_type": "code",
   "execution_count": 2,
   "metadata": {
    "colab": {
     "base_uri": "https://localhost:8080/",
     "height": 204
    },
    "id": "04caa01e",
    "outputId": "3a02892b-f34b-42f3-8ec8-b63489786e80"
   },
   "outputs": [
    {
     "data": {
      "text/html": [
       "<div>\n",
       "<style scoped>\n",
       "    .dataframe tbody tr th:only-of-type {\n",
       "        vertical-align: middle;\n",
       "    }\n",
       "\n",
       "    .dataframe tbody tr th {\n",
       "        vertical-align: top;\n",
       "    }\n",
       "\n",
       "    .dataframe thead th {\n",
       "        text-align: right;\n",
       "    }\n",
       "</style>\n",
       "<table border=\"1\" class=\"dataframe\">\n",
       "  <thead>\n",
       "    <tr style=\"text-align: right;\">\n",
       "      <th></th>\n",
       "      <th>Date</th>\n",
       "      <th>Open</th>\n",
       "      <th>High</th>\n",
       "      <th>Low</th>\n",
       "      <th>Close</th>\n",
       "      <th>Adj Close</th>\n",
       "      <th>Volume</th>\n",
       "    </tr>\n",
       "  </thead>\n",
       "  <tbody>\n",
       "    <tr>\n",
       "      <th>0</th>\n",
       "      <td>2018-01-12</td>\n",
       "      <td>28.000000</td>\n",
       "      <td>30.680000</td>\n",
       "      <td>27.879999</td>\n",
       "      <td>30.000000</td>\n",
       "      <td>30.000000</td>\n",
       "      <td>1767128.0</td>\n",
       "    </tr>\n",
       "    <tr>\n",
       "      <th>1</th>\n",
       "      <td>2018-01-15</td>\n",
       "      <td>30.559999</td>\n",
       "      <td>31.559999</td>\n",
       "      <td>29.040001</td>\n",
       "      <td>29.360001</td>\n",
       "      <td>29.360001</td>\n",
       "      <td>637407.0</td>\n",
       "    </tr>\n",
       "    <tr>\n",
       "      <th>2</th>\n",
       "      <td>2018-01-16</td>\n",
       "      <td>29.520000</td>\n",
       "      <td>29.520000</td>\n",
       "      <td>26.520000</td>\n",
       "      <td>27.480000</td>\n",
       "      <td>27.480000</td>\n",
       "      <td>430148.0</td>\n",
       "    </tr>\n",
       "    <tr>\n",
       "      <th>3</th>\n",
       "      <td>2018-01-17</td>\n",
       "      <td>26.840000</td>\n",
       "      <td>28.200001</td>\n",
       "      <td>26.080000</td>\n",
       "      <td>27.799999</td>\n",
       "      <td>27.799999</td>\n",
       "      <td>462968.0</td>\n",
       "    </tr>\n",
       "    <tr>\n",
       "      <th>4</th>\n",
       "      <td>2018-01-18</td>\n",
       "      <td>27.400000</td>\n",
       "      <td>28.879999</td>\n",
       "      <td>26.240000</td>\n",
       "      <td>26.719999</td>\n",
       "      <td>26.719999</td>\n",
       "      <td>270610.0</td>\n",
       "    </tr>\n",
       "  </tbody>\n",
       "</table>\n",
       "</div>"
      ],
      "text/plain": [
       "         Date       Open       High        Low      Close  Adj Close  \\\n",
       "0  2018-01-12  28.000000  30.680000  27.879999  30.000000  30.000000   \n",
       "1  2018-01-15  30.559999  31.559999  29.040001  29.360001  29.360001   \n",
       "2  2018-01-16  29.520000  29.520000  26.520000  27.480000  27.480000   \n",
       "3  2018-01-17  26.840000  28.200001  26.080000  27.799999  27.799999   \n",
       "4  2018-01-18  27.400000  28.879999  26.240000  26.719999  26.719999   \n",
       "\n",
       "      Volume  \n",
       "0  1767128.0  \n",
       "1   637407.0  \n",
       "2   430148.0  \n",
       "3   462968.0  \n",
       "4   270610.0  "
      ]
     },
     "execution_count": 2,
     "metadata": {},
     "output_type": "execute_result"
    }
   ],
   "source": [
    "df.head()"
   ]
  },
  {
   "cell_type": "code",
   "execution_count": 3,
   "metadata": {
    "colab": {
     "base_uri": "https://localhost:8080/",
     "height": 204
    },
    "id": "1567f509",
    "outputId": "7fef5779-767d-4958-c7ba-3053d6f716ac"
   },
   "outputs": [
    {
     "data": {
      "text/html": [
       "<div>\n",
       "<style scoped>\n",
       "    .dataframe tbody tr th:only-of-type {\n",
       "        vertical-align: middle;\n",
       "    }\n",
       "\n",
       "    .dataframe tbody tr th {\n",
       "        vertical-align: top;\n",
       "    }\n",
       "\n",
       "    .dataframe thead th {\n",
       "        text-align: right;\n",
       "    }\n",
       "</style>\n",
       "<table border=\"1\" class=\"dataframe\">\n",
       "  <thead>\n",
       "    <tr style=\"text-align: right;\">\n",
       "      <th></th>\n",
       "      <th>Date</th>\n",
       "      <th>Open</th>\n",
       "      <th>High</th>\n",
       "      <th>Low</th>\n",
       "      <th>Close</th>\n",
       "      <th>Adj Close</th>\n",
       "      <th>Volume</th>\n",
       "    </tr>\n",
       "  </thead>\n",
       "  <tbody>\n",
       "    <tr>\n",
       "      <th>855</th>\n",
       "      <td>2021-07-05</td>\n",
       "      <td>8.28</td>\n",
       "      <td>8.28</td>\n",
       "      <td>8.28</td>\n",
       "      <td>8.28</td>\n",
       "      <td>8.28</td>\n",
       "      <td>89937.0</td>\n",
       "    </tr>\n",
       "    <tr>\n",
       "      <th>856</th>\n",
       "      <td>2021-07-06</td>\n",
       "      <td>8.69</td>\n",
       "      <td>8.69</td>\n",
       "      <td>7.87</td>\n",
       "      <td>8.43</td>\n",
       "      <td>8.43</td>\n",
       "      <td>734167.0</td>\n",
       "    </tr>\n",
       "    <tr>\n",
       "      <th>857</th>\n",
       "      <td>2021-07-07</td>\n",
       "      <td>8.65</td>\n",
       "      <td>8.85</td>\n",
       "      <td>8.03</td>\n",
       "      <td>8.81</td>\n",
       "      <td>8.81</td>\n",
       "      <td>286926.0</td>\n",
       "    </tr>\n",
       "    <tr>\n",
       "      <th>858</th>\n",
       "      <td>2021-07-08</td>\n",
       "      <td>9.25</td>\n",
       "      <td>9.25</td>\n",
       "      <td>8.90</td>\n",
       "      <td>9.24</td>\n",
       "      <td>9.24</td>\n",
       "      <td>224550.0</td>\n",
       "    </tr>\n",
       "    <tr>\n",
       "      <th>859</th>\n",
       "      <td>2021-07-09</td>\n",
       "      <td>9.63</td>\n",
       "      <td>9.69</td>\n",
       "      <td>9.31</td>\n",
       "      <td>9.66</td>\n",
       "      <td>9.66</td>\n",
       "      <td>58099.0</td>\n",
       "    </tr>\n",
       "  </tbody>\n",
       "</table>\n",
       "</div>"
      ],
      "text/plain": [
       "           Date  Open  High   Low  Close  Adj Close    Volume\n",
       "855  2021-07-05  8.28  8.28  8.28   8.28       8.28   89937.0\n",
       "856  2021-07-06  8.69  8.69  7.87   8.43       8.43  734167.0\n",
       "857  2021-07-07  8.65  8.85  8.03   8.81       8.81  286926.0\n",
       "858  2021-07-08  9.25  9.25  8.90   9.24       9.24  224550.0\n",
       "859  2021-07-09  9.63  9.69  9.31   9.66       9.66   58099.0"
      ]
     },
     "execution_count": 3,
     "metadata": {},
     "output_type": "execute_result"
    }
   ],
   "source": [
    "df.tail()"
   ]
  },
  {
   "cell_type": "code",
   "execution_count": 5,
   "metadata": {
    "id": "fc88107a"
   },
   "outputs": [],
   "source": [
    "df1=df.reset_index()['Close']"
   ]
  },
  {
   "cell_type": "code",
   "execution_count": 6,
   "metadata": {
    "colab": {
     "base_uri": "https://localhost:8080/",
     "height": 282
    },
    "id": "ab334e30",
    "outputId": "21894b29-1b36-4129-8b27-b6ce8174a2a8"
   },
   "outputs": [
    {
     "data": {
      "text/plain": [
       "[<matplotlib.lines.Line2D at 0x7fe98d1447c0>]"
      ]
     },
     "execution_count": 6,
     "metadata": {},
     "output_type": "execute_result"
    },
    {
     "data": {
      "image/png": "[encoded data removed]",
      "text/plain": [
       "<Figure size 432x288 with 1 Axes>"
      ]
     },
     "metadata": {
      "needs_background": "light"
     },
     "output_type": "display_data"
    }
   ],
   "source": [
    "import matplotlib.pyplot as plt\n",
    "plt.plot(df1)"
   ]
  },
  {
   "cell_type": "code",
   "execution_count": 7,
   "metadata": {
    "colab": {
     "base_uri": "https://localhost:8080/"
    },
    "id": "51b7900a",
    "outputId": "86b246fa-9390-40e3-e1f6-f17d49fbf21b"
   },
   "outputs": [
    {
     "name": "stdout",
     "output_type": "stream",
     "text": [
      "[]\n"
     ]
    }
   ],
   "source": [
    "import numpy as np\n",
    "arr = np.array([[1, 2, 3, 4, 5]])\n",
    "print(arr[:-1:])"
   ]
  },
  {
   "cell_type": "code",
   "execution_count": 8,
   "metadata": {
    "id": "af17863a"
   },
   "outputs": [],
   "source": [
    "from sklearn.preprocessing import MinMaxScaler\n",
    "scaler=MinMaxScaler(feature_range=(0,1))\n",
    "df1=scaler.fit_transform(np.array(df1).reshape(-1,1))"
   ]
  },
  {
   "cell_type": "code",
   "execution_count": 9,
   "metadata": {
    "colab": {
     "base_uri": "https://localhost:8080/"
    },
    "id": "e2bc47b6",
    "outputId": "41a8e7c3-9b29-4ee4-fd1f-73463a9d9510"
   },
   "outputs": [
    {
     "data": {
      "text/plain": [
       "(860, 1)"
      ]
     },
     "execution_count": 9,
     "metadata": {},
     "output_type": "execute_result"
    }
   ],
   "source": [
    "df1.shape"
   ]
  },
  {
   "cell_type": "code",
   "execution_count": 10,
   "metadata": {
    "id": "cea545ad"
   },
   "outputs": [],
   "source": [
    "train_size=int(len(df1)*0.65)\n",
    "test_size=len(df1)-train_size\n",
    "train_data,test_data=df1[:train_size],df1[train_size:len(df1)]"
   ]
  },
  {
   "cell_type": "code",
   "execution_count": 11,
   "metadata": {
    "id": "6ed7c9c9"
   },
   "outputs": [],
   "source": [
    "import numpy as np\n",
    "def create_dataset(dataset,time_step=1):\n",
    "    dataX,dataY=[],[]\n",
    "    for i in range(len(dataset)-time_step-1):\n",
    "        a=dataset[i:(i+time_step),0]\n",
    "        dataX.append(a)\n",
    "        dataY.append(dataset[i+time_step,0])\n",
    "    return np.array(dataX),np.array(dataY)\n"
   ]
  },
  {
   "cell_type": "code",
   "execution_count": 12,
   "metadata": {
    "colab": {
     "base_uri": "https://localhost:8080/"
    },
    "id": "3d246c6c",
    "outputId": "bb24d4b7-6749-4988-eb96-a22ff94b59e6"
   },
   "outputs": [
    {
     "name": "stdout",
     "output_type": "stream",
     "text": [
      "(488, 70)\n"
     ]
    }
   ],
   "source": [
    "time_step=70\n",
    "X_train,Y_train=create_dataset(train_data,time_step)\n",
    "X_test,Y_test=create_dataset(test_data,time_step)\n",
    "print(X_train.shape)"
   ]
  },
  {
   "cell_type": "code",
   "execution_count": 13,
   "metadata": {
    "id": "df662da7"
   },
   "outputs": [
    {
     "ename": "NameError",
     "evalue": "name 'y_test' is not defined",
     "output_type": "error",
     "traceback": [
      "\u001b[0;31m---------------------------------------------------------------------------\u001b[0m",
      "\u001b[0;31mNameError\u001b[0m                                 Traceback (most recent call last)",
      "\u001b[0;32m<ipython-input-13-ec0de5afb6df>\u001b[0m in \u001b[0;36m<module>\u001b[0;34m\u001b[0m\n\u001b[1;32m      1\u001b[0m \u001b[0mX_train\u001b[0m\u001b[0;34m=\u001b[0m\u001b[0mX_train\u001b[0m\u001b[0;34m.\u001b[0m\u001b[0mreshape\u001b[0m\u001b[0;34m(\u001b[0m\u001b[0mX_train\u001b[0m\u001b[0;34m.\u001b[0m\u001b[0mshape\u001b[0m\u001b[0;34m[\u001b[0m\u001b[0;36m0\u001b[0m\u001b[0;34m]\u001b[0m\u001b[0;34m,\u001b[0m\u001b[0mX_train\u001b[0m\u001b[0;34m.\u001b[0m\u001b[0mshape\u001b[0m\u001b[0;34m[\u001b[0m\u001b[0;36m1\u001b[0m\u001b[0;34m]\u001b[0m\u001b[0;34m,\u001b[0m\u001b[0;36m1\u001b[0m\u001b[0;34m)\u001b[0m\u001b[0;34m\u001b[0m\u001b[0;34m\u001b[0m\u001b[0m\n\u001b[1;32m      2\u001b[0m \u001b[0mX_test\u001b[0m\u001b[0;34m=\u001b[0m\u001b[0mX_test\u001b[0m\u001b[0;34m.\u001b[0m\u001b[0mreshape\u001b[0m\u001b[0;34m(\u001b[0m\u001b[0mX_test\u001b[0m\u001b[0;34m.\u001b[0m\u001b[0mshape\u001b[0m\u001b[0;34m[\u001b[0m\u001b[0;36m0\u001b[0m\u001b[0;34m]\u001b[0m\u001b[0;34m,\u001b[0m\u001b[0mX_test\u001b[0m\u001b[0;34m.\u001b[0m\u001b[0mshape\u001b[0m\u001b[0;34m[\u001b[0m\u001b[0;36m1\u001b[0m\u001b[0;34m]\u001b[0m\u001b[0;34m,\u001b[0m\u001b[0;36m1\u001b[0m\u001b[0;34m)\u001b[0m\u001b[0;34m\u001b[0m\u001b[0;34m\u001b[0m\u001b[0m\n\u001b[0;32m----> 3\u001b[0;31m \u001b[0mY_test\u001b[0m\u001b[0;34m=\u001b[0m\u001b[0mY_test\u001b[0m\u001b[0;34m.\u001b[0m\u001b[0mreshape\u001b[0m\u001b[0;34m(\u001b[0m\u001b[0my_test\u001b[0m\u001b[0;34m.\u001b[0m\u001b[0mshape\u001b[0m\u001b[0;34m[\u001b[0m\u001b[0;36m0\u001b[0m\u001b[0;34m]\u001b[0m\u001b[0;34m,\u001b[0m\u001b[0;36m1\u001b[0m\u001b[0;34m)\u001b[0m\u001b[0;34m\u001b[0m\u001b[0;34m\u001b[0m\u001b[0m\n\u001b[0m\u001b[1;32m      4\u001b[0m \u001b[0mY_train\u001b[0m\u001b[0;34m=\u001b[0m\u001b[0mY_train\u001b[0m\u001b[0;34m.\u001b[0m\u001b[0mreshape\u001b[0m\u001b[0;34m(\u001b[0m\u001b[0my_train\u001b[0m\u001b[0;34m.\u001b[0m\u001b[0mshape\u001b[0m\u001b[0;34m[\u001b[0m\u001b[0;36m0\u001b[0m\u001b[0;34m]\u001b[0m\u001b[0;34m,\u001b[0m\u001b[0;36m1\u001b[0m\u001b[0;34m)\u001b[0m\u001b[0;34m\u001b[0m\u001b[0;34m\u001b[0m\u001b[0m\n",
      "\u001b[0;31mNameError\u001b[0m: name 'y_test' is not defined"
     ]
    }
   ],
   "source": [
    "X_train=X_train.reshape(X_train.shape[0],X_train.shape[1],1)\n",
    "X_test=X_test.reshape(X_test.shape[0],X_test.shape[1],1)\n",
    "Y_test=Y_test.reshape(_test.shape[0],1)\n",
    "Y_train=Y_train.reshape(y_train.shape[0],1)"
   ]
  },
  {
   "cell_type": "code",
   "execution_count": 61,
   "metadata": {
    "id": "44ba45bf"
   },
   "outputs": [],
   "source": [
    "import torch\n",
    "import torch.nn as nn\n",
    "x_train=torch.from_numpy(X_train).type(torch.Tensor)\n",
    "x_test=torch.from_numpy(X_test).type(torch.Tensor)\n",
    "y_train=torch.from_numpy(Y_train).type(torch.Tensor)\n",
    "y_test=torch.from_numpy(Y_test).type(torch.Tensor)"
   ]
  },
  {
   "cell_type": "code",
   "execution_count": 33,
   "metadata": {
    "colab": {
     "base_uri": "https://localhost:8080/"
    },
    "id": "45053905",
    "outputId": "94511a0a-44c4-4e61-86b8-5f4cb997842a"
   },
   "outputs": [
    {
     "name": "stdout",
     "output_type": "stream",
     "text": [
      "746\n"
     ]
    }
   ],
   "source": [
    "print(x_train.size(0))\n",
    "input_dim=1\n",
    "hidden_dim=16\n",
    "num_layers=3\n",
    "output_dim=1\n",
    "num_epochs=100"
   ]
  },
  {
   "cell_type": "code",
   "execution_count": 48,
   "metadata": {},
   "outputs": [
    {
     "name": "stdout",
     "output_type": "stream",
     "text": [
      "(440, 1)\n"
     ]
    }
   ],
   "source": [
    "print(test_data.shape)"
   ]
  },
  {
   "cell_type": "code",
   "execution_count": 34,
   "metadata": {
    "id": "5a177827"
   },
   "outputs": [],
   "source": [
    "class LSTM(nn.Module):\n",
    "    def __init__(self,input_dim,hidden_dim,num_layers,output_dim):\n",
    "        super(LSTM,self).__init__()\n",
    "        self.hidden_dim=hidden_dim\n",
    "        self.num_layers=num_layers\n",
    "        self.lstm=nn.LSTM(input_dim,hidden_dim,num_layers,batch_first=True)\n",
    "        self.fc=nn.Linear(hidden_dim,output_dim)\n",
    "    def forward(self,x):\n",
    "        h0=torch.zeros(self.num_layers,x.size(0),self.hidden_dim).requires_grad_()\n",
    "        c0=torch.zeros(self.num_layers,x.size(0),self.hidden_dim).requires_grad_()\n",
    "        out,(hn,cn)=self.lstm(x,(h0.detach(),c0.detach()))\n",
    "        out=self.fc(out[:,-1,:])\n",
    "        return out\n",
    "        "
   ]
  },
  {
   "cell_type": "code",
   "execution_count": 35,
   "metadata": {
    "id": "483b6cfc"
   },
   "outputs": [],
   "source": [
    "model=LSTM(input_dim=input_dim,hidden_dim=hidden_dim,output_dim=output_dim,num_layers=num_layers)\n",
    "criterion=torch.nn.MSELoss(reduction='mean')\n",
    "optimiser=torch.optim.Adam(model.parameters(),lr=0.01)"
   ]
  },
  {
   "cell_type": "code",
   "execution_count": 36,
   "metadata": {
    "colab": {
     "base_uri": "https://localhost:8080/"
    },
    "id": "e90c3e7a",
    "outputId": "278445af-a65e-44b0-ad56-2696bbe49459"
   },
   "outputs": [
    {
     "name": "stdout",
     "output_type": "stream",
     "text": [
      "Epoch  0 MSE:  0.014073587022721767\n",
      "Epoch  10 MSE:  0.005606976803392172\n",
      "Epoch  20 MSE:  0.00552592845633626\n",
      "Epoch  30 MSE:  0.005303048528730869\n",
      "Epoch  40 MSE:  0.002393052913248539\n",
      "Epoch  50 MSE:  0.0010393207194283605\n",
      "Epoch  60 MSE:  0.0003538549935910851\n",
      "Epoch  70 MSE:  0.00031704752473160625\n",
      "Epoch  80 MSE:  0.00022767098562326282\n",
      "Epoch  90 MSE:  0.0002000031527131796\n",
      "Training time: 21.352783679962158\n"
     ]
    }
   ],
   "source": [
    "import time\n",
    "hist=np.zeros(num_epochs)\n",
    "start_time=time.time()\n",
    "for t in range(num_epochs):\n",
    "    y_train_pred=model.forward(x_train)\n",
    "    loss=criterion(y_train_pred,y_train)\n",
    "    if(t%10==0):\n",
    "        print(\"Epoch \", t, \"MSE: \", loss.item())\n",
    "    hist[t]=loss.item()\n",
    "    optimiser.zero_grad()\n",
    "    loss.backward()\n",
    "    optimiser.step()\n",
    "training_time=time.time()-start_time\n",
    "print(\"Training time: {}\".format(training_time))"
   ]
  },
  {
   "cell_type": "code",
   "execution_count": 37,
   "metadata": {
    "id": "d661e7ad"
   },
   "outputs": [],
   "source": [
    "train_predict=model(x_train)\n",
    "test_predict=model(x_test)\n"
   ]
  },
  {
   "cell_type": "code",
   "execution_count": 38,
   "metadata": {
    "id": "120d68c7"
   },
   "outputs": [],
   "source": [
    "# y_test.resize(y_test.shape[0],1)\n",
    "train_predict=train_predict.detach().numpy()\n",
    "test_predict=test_predict.detach().numpy()\n",
    "\n"
   ]
  },
  {
   "cell_type": "code",
   "execution_count": 39,
   "metadata": {
    "id": "b4c1804a"
   },
   "outputs": [],
   "source": [
    "# TRANSFORMING TRAIN_PREDICT IN THEIR REAL VALUES\n",
    "train_predict=scaler.inverse_transform(train_predict)\n",
    "test_predict=scaler.inverse_transform(test_predict)\n",
    "y_train_x=scaler.inverse_transform(y_train)\n",
    "y_test_x=scaler.inverse_transform(y_test)"
   ]
  },
  {
   "cell_type": "code",
   "execution_count": 40,
   "metadata": {
    "colab": {
     "base_uri": "https://localhost:8080/"
    },
    "id": "zPm3xv1QlJBS",
    "outputId": "5c784a87-ea8f-4e47-c450-f0429438bf1b"
   },
   "outputs": [
    {
     "data": {
      "text/plain": [
       "56.67366856436314"
      ]
     },
     "execution_count": 40,
     "metadata": {},
     "output_type": "execute_result"
    }
   ],
   "source": [
    "import math\n",
    "from sklearn.metrics import mean_squared_error\n",
    "math.sqrt(mean_squared_error(y_test_x,test_predict))\n"
   ]
  },
  {
   "cell_type": "code",
   "execution_count": 41,
   "metadata": {
    "colab": {
     "base_uri": "https://localhost:8080/",
     "height": 513
    },
    "id": "cc241b10",
    "outputId": "ec15bf90-6b39-46da-d43b-b6fc34800e5a"
   },
   "outputs": [
    {
     "data": {
      "image/png": "[encoded data removed]",
      "text/plain": [
       "<Figure size 1440x576 with 1 Axes>"
      ]
     },
     "metadata": {
      "needs_background": "light"
     },
     "output_type": "display_data"
    }
   ],
   "source": [
    "# Visualising the results\n",
    "figure, axes = plt.subplots(figsize=(20, 8))\n",
    "axes.xaxis_date()\n",
    "\n",
    "axes.plot(df[len(df)-len(y_test):].index, y_test_x, color = 'red', label = 'Real Apple stock price')\n",
    "axes.plot(df[len(df)-len(y_test):].index, test_predict, color = 'blue', label = 'Predicted APPLE Stock Price')\n",
    "# axes.xticks(np.arange(0,394,50))\n",
    "plt.title('APPLE Stock Price Prediction')\n",
    "plt.xlabel('Time')\n",
    "plt.ylabel('APPLE Stock Price')\n",
    "plt.legend()\n",
    "plt.savefig('APPLE_pred.png')\n",
    "# plt.plot(train_predict,color='red')\n",
    "# plt.plot(y_train_x,color='blue')\n",
    "plt.show()"
   ]
  },
  {
   "cell_type": "code",
   "execution_count": 49,
   "metadata": {
    "id": "bf4b4f46"
   },
   "outputs": [],
   "source": [
    "# next 30 days prediction\n",
    "x_input=test_data[370:]\n",
    "temp_input=np.array(x_input)"
   ]
  },
  {
   "cell_type": "code",
   "execution_count": 50,
   "metadata": {
    "id": "Dju61ZewqgZW"
   },
   "outputs": [],
   "source": [
    "temp_input=temp_input.reshape(1,-1)\n",
    "temp_input=list(temp_input)\n"
   ]
  },
  {
   "cell_type": "code",
   "execution_count": 51,
   "metadata": {
    "id": "JdT-NoNvxena"
   },
   "outputs": [],
   "source": [
    "temp_input=temp_input[0].tolist()"
   ]
  },
  {
   "cell_type": "code",
   "execution_count": 52,
   "metadata": {
    "colab": {
     "base_uri": "https://localhost:8080/"
    },
    "id": "QmhIDr3Vq3rz",
    "outputId": "ab4f3ec4-4009-48af-d166-ef0567cb6b66"
   },
   "outputs": [
    {
     "name": "stdout",
     "output_type": "stream",
     "text": [
      "[[0.10476887226104736], [0.1068207174539566], [0.10807496309280396], [0.10878157615661621], [0.1091717928647995], [0.10940416902303696], [0.10957036912441254], [0.10971613973379135], [0.10986067354679108], [0.11000992357730865], [0.11016425490379333], [0.11032236367464066], [0.11048278957605362], [0.11064457148313522], [0.11080705374479294], [0.11096996068954468], [0.11113321036100388], [0.11129672825336456], [0.11146055161952972], [0.11162471026182175], [0.11178919672966003], [0.11195403337478638], [0.11211925745010376], [0.11228485405445099], [0.11245084553956985], [0.11261723935604095], [0.11278404295444489], [0.11295127123594284], [0.11311893165111542], [0.11328702419996262]]\n"
     ]
    }
   ],
   "source": [
    "from numpy import array\n",
    "fut_output=[]\n",
    "i=0\n",
    "n_steps=70\n",
    "while(i<30):\n",
    "  if(len(temp_input)>n_steps):\n",
    "      x_input=temp_input[1:]\n",
    "      x_input=np.array(x_input)\n",
    "      x_input=x_input.reshape((1,n_steps,1))\n",
    "      x_input=torch.from_numpy(x_input).type(torch.Tensor)\n",
    "      y_hat=model.forward(x_input)\n",
    "      y_hat=y_hat.detach().numpy()\n",
    "      temp_input.extend(y_hat[0].tolist())\n",
    "      fut_output.extend(y_hat.tolist())\n",
    "      temp_input=temp_input[1:]\n",
    "  else:\n",
    "      x_input=x_input.reshape((1,n_steps,1))\n",
    "      x_input=torch.from_numpy(x_input).type(torch.Tensor)\n",
    "      y_hat=model.forward(x_input)\n",
    "      y_hat=y_hat.detach().numpy()\n",
    "      temp_input.extend(y_hat[0].tolist())\n",
    "      fut_output.extend(y_hat.tolist())\n",
    "  i=i+1\n",
    "print(fut_output)\n",
    "    \n",
    "\n",
    "\n"
   ]
  },
  {
   "cell_type": "code",
   "execution_count": 53,
   "metadata": {
    "id": "RjMsS9BDzkiY"
   },
   "outputs": [],
   "source": [
    "day_new=np.arange(1,101)\n",
    "day_pred=np.arange(101,131)\n"
   ]
  },
  {
   "cell_type": "code",
   "execution_count": 54,
   "metadata": {
    "colab": {
     "base_uri": "https://localhost:8080/"
    },
    "id": "PciA-C49zrAi",
    "outputId": "c78974a4-c94a-4dbd-e90a-ea3678fda642"
   },
   "outputs": [
    {
     "data": {
      "text/plain": [
       "1257"
      ]
     },
     "execution_count": 54,
     "metadata": {},
     "output_type": "execute_result"
    }
   ],
   "source": [
    "len(df1)"
   ]
  },
  {
   "cell_type": "code",
   "execution_count": 55,
   "metadata": {
    "colab": {
     "base_uri": "https://localhost:8080/",
     "height": 282
    },
    "id": "GWuP7g0Hztuf",
    "outputId": "94c2e7e7-6b58-42b7-9349-56d25786245e"
   },
   "outputs": [
    {
     "data": {
      "text/plain": [
       "[<matplotlib.lines.Line2D at 0x7f5f7980ca30>]"
      ]
     },
     "execution_count": 55,
     "metadata": {},
     "output_type": "execute_result"
    },
    {
     "data": {
      "image/png": "[encoded data removed]",
      "text/plain": [
       "<Figure size 432x288 with 1 Axes>"
      ]
     },
     "metadata": {
      "needs_background": "light"
     },
     "output_type": "display_data"
    }
   ],
   "source": [
    "plt.plot(day_new,scaler.inverse_transform(df1[1157:]))\n",
    "plt.plot(day_pred,scaler.inverse_transform(fut_output))"
   ]
  },
  {
   "cell_type": "code",
   "execution_count": 56,
   "metadata": {
    "colab": {
     "base_uri": "https://localhost:8080/",
     "height": 282
    },
    "id": "0X83-DiV0TRS",
    "outputId": "cc34fa2a-539d-4826-ef10-8a98c547e199"
   },
   "outputs": [
    {
     "data": {
      "text/plain": [
       "[<matplotlib.lines.Line2D at 0x7f5f79802ac0>]"
      ]
     },
     "execution_count": 56,
     "metadata": {},
     "output_type": "execute_result"
    },
    {
     "data": {
      "image/png": "[encoded data removed]",
      "text/plain": [
       "<Figure size 432x288 with 1 Axes>"
      ]
     },
     "metadata": {
      "needs_background": "light"
     },
     "output_type": "display_data"
    }
   ],
   "source": [
    "df3=df1.tolist()\n",
    "df3.extend(fut_output)\n",
    "plt.plot(df3[1200:])"
   ]
  },
  {
   "cell_type": "code",
   "execution_count": 57,
   "metadata": {
    "colab": {
     "base_uri": "https://localhost:8080/",
     "height": 282
    },
    "id": "wh5jgrY-0zfz",
    "outputId": "7e890902-f6f2-4d13-8f47-f6f313e71947"
   },
   "outputs": [
    {
     "data": {
      "text/plain": [
       "[<matplotlib.lines.Line2D at 0x7f5f79757ca0>]"
      ]
     },
     "execution_count": 57,
     "metadata": {},
     "output_type": "execute_result"
    },
    {
     "data": {
      "image/png": "[encoded data removed]",
      "text/plain": [
       "<Figure size 432x288 with 1 Axes>"
      ]
     },
     "metadata": {
      "needs_background": "light"
     },
     "output_type": "display_data"
    }
   ],
   "source": [
    "df3=scaler.inverse_transform(df3).tolist()\n",
    "plt.plot(df3)"
   ]
  },
  {
   "cell_type": "markdown",
   "metadata": {},
   "source": [
    "# GRU Implementation"
   ]
  },
  {
   "cell_type": "code",
   "execution_count": 62,
   "metadata": {},
   "outputs": [],
   "source": [
    "import torch\n",
    "import torch.nn as nn\n",
    "x_train_gru=torch.from_numpy(X_train).type(torch.Tensor)\n",
    "x_test_gru=torch.from_numpy(X_test).type(torch.Tensor)\n",
    "y_train_gru=torch.from_numpy(Y_train).type(torch.Tensor)\n",
    "y_test_gru=torch.from_numpy(Y_test).type(torch.Tensor)"
   ]
  },
  {
   "cell_type": "code",
   "execution_count": 63,
   "metadata": {},
   "outputs": [],
   "source": [
    "input_dim = 1\n",
    "hidden_dim = 32\n",
    "num_layers = 2\n",
    "output_dim = 1\n",
    "num_epochs = 100"
   ]
  },
  {
   "cell_type": "code",
   "execution_count": 65,
   "metadata": {},
   "outputs": [],
   "source": [
    "class GRU(nn.Module):\n",
    "    def __init__(self,input_dim,hidden_dim,num_layers,output_dim):\n",
    "        super(GRU,self).__init__()\n",
    "        self.hidden_dim=hidden_dim\n",
    "        self.num_layers=num_layers\n",
    "        self.gru=nn.GRU(input_dim,hidden_dim,num_layers,batch_first=True)\n",
    "        self.fc=nn.Linear(hidden_dim,output_dim)\n",
    "    def forward(self,x):\n",
    "        h0=torch.zeros(self.num_layers,x.size(0),self.hidden_dim).requires_grad_()\n",
    "        out,(hn)=self.gru(x,(h0.detach()))\n",
    "        out=self.fc(out[:,-1,:])\n",
    "        return out"
   ]
  },
  {
   "cell_type": "code",
   "execution_count": 67,
   "metadata": {},
   "outputs": [],
   "source": [
    "model=GRU(input_dim=input_dim,hidden_dim=hidden_dim,output_dim=output_dim,num_layers=num_layers)\n",
    "criterion=torch.nn.MSELoss(reduction='mean')\n",
    "optimiser=torch.optim.Adam(model.parameters(),lr=0.01)"
   ]
  },
  {
   "cell_type": "code",
   "execution_count": 68,
   "metadata": {},
   "outputs": [
    {
     "name": "stdout",
     "output_type": "stream",
     "text": [
      "Epoch  0 MSE:  0.006174175534397364\n",
      "Epoch  10 MSE:  0.00957830622792244\n",
      "Epoch  20 MSE:  0.004232328850775957\n",
      "Epoch  30 MSE:  0.002759578637778759\n",
      "Epoch  40 MSE:  0.0002977094554807991\n",
      "Epoch  50 MSE:  0.00014943821588531137\n",
      "Epoch  60 MSE:  0.00012290716404095292\n",
      "Epoch  70 MSE:  9.355541988043115e-05\n",
      "Epoch  80 MSE:  7.213679782580584e-05\n",
      "Epoch  90 MSE:  6.086120993131772e-05\n",
      "Training time: 14.763153791427612\n"
     ]
    }
   ],
   "source": [
    "import time\n",
    "hist=np.zeros(num_epochs)\n",
    "start_time=time.time()\n",
    "for t in range(num_epochs):\n",
    "    y_train_pred=model.forward(x_train_gru)\n",
    "    loss=criterion(y_train_pred,y_train_gru)\n",
    "    if(t%10==0):\n",
    "        print(\"Epoch \", t, \"MSE: \", loss.item())\n",
    "    hist[t]=loss.item()\n",
    "    optimiser.zero_grad()\n",
    "    loss.backward()\n",
    "    optimiser.step()\n",
    "training_time=time.time()-start_time\n",
    "print(\"Training time: {}\".format(training_time))"
   ]
  },
  {
   "cell_type": "code",
   "execution_count": 69,
   "metadata": {},
   "outputs": [],
   "source": [
    "train_predict_gru=model(x_train_gru)\n",
    "test_predict_gru=model(x_test_gru)\n"
   ]
  },
  {
   "cell_type": "code",
   "execution_count": 70,
   "metadata": {},
   "outputs": [],
   "source": [
    "train_predict_gru=train_predict_gru.detach().numpy()\n",
    "test_predict_gru=test_predict_gru.detach().numpy()\n"
   ]
  },
  {
   "cell_type": "code",
   "execution_count": 71,
   "metadata": {},
   "outputs": [],
   "source": [
    "train_predict_gru=scaler.inverse_transform(train_predict_gru)\n",
    "test_predict_gru=scaler.inverse_transform(test_predict_gru)\n",
    "y_train_x_gru=scaler.inverse_transform(y_train_gru)\n",
    "y_test_x_gru=scaler.inverse_transform(y_test_gru)"
   ]
  },
  {
   "cell_type": "code",
   "execution_count": 72,
   "metadata": {},
   "outputs": [
    {
     "data": {
      "text/plain": [
       "22.670626906073615"
      ]
     },
     "execution_count": 72,
     "metadata": {},
     "output_type": "execute_result"
    }
   ],
   "source": [
    "import math\n",
    "from sklearn.metrics import mean_squared_error\n",
    "math.sqrt(mean_squared_error(y_test_x_gru,test_predict_gru))\n"
   ]
  },
  {
   "cell_type": "code",
   "execution_count": 73,
   "metadata": {},
   "outputs": [
    {
     "data": {
      "image/png": "[encoded data removed]",
      "text/plain": [
       "<Figure size 1440x576 with 1 Axes>"
      ]
     },
     "metadata": {
      "needs_background": "light"
     },
     "output_type": "display_data"
    }
   ],
   "source": [
    "# Visualising the results\n",
    "figure, axes = plt.subplots(figsize=(20, 8))\n",
    "axes.xaxis_date()\n",
    "\n",
    "axes.plot(df[len(df)-len(y_test_gru):].index, y_test_x_gru, color = 'red', label = 'Real Apple stock price')\n",
    "axes.plot(df[len(df)-len(y_test_gru):].index, test_predict_gru, color = 'blue', label = 'Predicted APPLE Stock Price')\n",
    "# axes.xticks(np.arange(0,394,50))\n",
    "plt.title('APPLE Stock Price Prediction')\n",
    "plt.xlabel('Time')\n",
    "plt.ylabel('APPLE Stock Price')\n",
    "plt.legend()\n",
    "plt.savefig('APPLE_pred.png')\n",
    "# plt.plot(train_predict,color='red')\n",
    "# plt.plot(y_train_x,color='blue')\n",
    "plt.show()"
   ]
  },
  {
   "cell_type": "markdown",
   "metadata": {},
   "source": []
  }
 ],
 "metadata": {
  "colab": {
   "name": "Untitled.ipynb",
   "provenance": []
  },
  "kernelspec": {
   "display_name": "Python 3",
   "language": "python",
   "name": "python3"
  },
  "language_info": {
   "codemirror_mode": {
    "name": "ipython",
    "version": 3
   },
   "file_extension": ".py",
   "mimetype": "text/x-python",
   "name": "python",
   "nbconvert_exporter": "python",
   "pygments_lexer": "ipython3",
   "version": "3.8.5"
  }
 },
 "nbformat": 4,
 "nbformat_minor": 5
}
