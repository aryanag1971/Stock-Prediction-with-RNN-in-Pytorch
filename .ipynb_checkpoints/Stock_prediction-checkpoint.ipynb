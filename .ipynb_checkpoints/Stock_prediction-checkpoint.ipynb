{
 "cells": [
  {
   "cell_type": "code",
   "execution_count": 1,
   "metadata": {
    "id": "633505ae",
    "outputId": "974efaaf-5d1e-41a9-e224-6edbe465b1a1"
   },
   "outputs": [
    {
     "name": "stdout",
     "output_type": "stream",
     "text": [
      "Collecting pandas-datareader\n",
      "  Downloading pandas_datareader-0.9.0-py3-none-any.whl (107 kB)\n",
      "\u001b[K     |████████████████████████████████| 107 kB 2.7 MB/s eta 0:00:01\n",
      "\u001b[?25hRequirement already satisfied: requests>=2.19.0 in /home/aryan/anaconda3/envs/pytorch/lib/python3.8/site-packages (from pandas-datareader) (2.25.1)\n",
      "Collecting lxml\n",
      "  Downloading lxml-4.6.3-cp38-cp38-manylinux2014_x86_64.whl (6.8 MB)\n",
      "\u001b[K     |████████████████████████████████| 6.8 MB 3.4 MB/s eta 0:00:01\n",
      "\u001b[?25hRequirement already satisfied: pandas>=0.23 in /home/aryan/anaconda3/envs/pytorch/lib/python3.8/site-packages (from pandas-datareader) (1.1.3)\n",
      "Requirement already satisfied: urllib3<1.27,>=1.21.1 in /home/aryan/anaconda3/envs/pytorch/lib/python3.8/site-packages (from requests>=2.19.0->pandas-datareader) (1.26.6)\n",
      "Requirement already satisfied: idna<3,>=2.5 in /home/aryan/anaconda3/envs/pytorch/lib/python3.8/site-packages (from requests>=2.19.0->pandas-datareader) (2.10)\n",
      "Requirement already satisfied: chardet<5,>=3.0.2 in /home/aryan/anaconda3/envs/pytorch/lib/python3.8/site-packages (from requests>=2.19.0->pandas-datareader) (4.0.0)\n",
      "Requirement already satisfied: certifi>=2017.4.17 in /home/aryan/anaconda3/envs/pytorch/lib/python3.8/site-packages (from requests>=2.19.0->pandas-datareader) (2021.5.30)\n",
      "Requirement already satisfied: python-dateutil>=2.7.3 in /home/aryan/anaconda3/envs/pytorch/lib/python3.8/site-packages (from pandas>=0.23->pandas-datareader) (2.8.1)\n",
      "Requirement already satisfied: numpy>=1.15.4 in /home/aryan/anaconda3/envs/pytorch/lib/python3.8/site-packages (from pandas>=0.23->pandas-datareader) (1.19.5)\n",
      "Requirement already satisfied: pytz>=2017.2 in /home/aryan/anaconda3/envs/pytorch/lib/python3.8/site-packages (from pandas>=0.23->pandas-datareader) (2020.1)\n",
      "Requirement already satisfied: six>=1.5 in /home/aryan/anaconda3/envs/pytorch/lib/python3.8/site-packages (from python-dateutil>=2.7.3->pandas>=0.23->pandas-datareader) (1.15.0)\n",
      "Installing collected packages: lxml, pandas-datareader\n",
      "Successfully installed lxml-4.6.3 pandas-datareader-0.9.0\n",
      "Note: you may need to restart the kernel to use updated packages.\n"
     ]
    }
   ],
   "source": [
    "pip install pandas-datareader\n"
   ]
  },
  {
   "cell_type": "code",
   "execution_count": 1,
   "metadata": {
    "id": "36f88067"
   },
   "outputs": [],
   "source": [
    "import pandas_datareader as pdr\n",
    "key=\"6243031f9991b62cb727c1fe2f25528c234e42d9\""
   ]
  },
  {
   "cell_type": "code",
   "execution_count": 2,
   "metadata": {
    "id": "89d1220f"
   },
   "outputs": [],
   "source": [
    "df=pdr.get_data_tiingo('AAPL',api_key=key)"
   ]
  },
  {
   "cell_type": "code",
   "execution_count": 3,
   "metadata": {
    "id": "757c00ca"
   },
   "outputs": [],
   "source": [
    "df.to_csv('AAPL.csv')"
   ]
  },
  {
   "cell_type": "code",
   "execution_count": 4,
   "metadata": {
    "id": "129eef72"
   },
   "outputs": [],
   "source": [
    "import pandas as pd\n",
    "df=pd.read_csv('AAPL.csv')"
   ]
  },
  {
   "cell_type": "code",
   "execution_count": 5,
   "metadata": {
    "colab": {
     "base_uri": "https://localhost:8080/",
     "height": 204
    },
    "id": "04caa01e",
    "outputId": "3a02892b-f34b-42f3-8ec8-b63489786e80"
   },
   "outputs": [
    {
     "data": {
      "text/html": [
       "<div>\n",
       "<style scoped>\n",
       "    .dataframe tbody tr th:only-of-type {\n",
       "        vertical-align: middle;\n",
       "    }\n",
       "\n",
       "    .dataframe tbody tr th {\n",
       "        vertical-align: top;\n",
       "    }\n",
       "\n",
       "    .dataframe thead th {\n",
       "        text-align: right;\n",
       "    }\n",
       "</style>\n",
       "<table border=\"1\" class=\"dataframe\">\n",
       "  <thead>\n",
       "    <tr style=\"text-align: right;\">\n",
       "      <th></th>\n",
       "      <th>symbol</th>\n",
       "      <th>date</th>\n",
       "      <th>close</th>\n",
       "      <th>high</th>\n",
       "      <th>low</th>\n",
       "      <th>open</th>\n",
       "      <th>volume</th>\n",
       "      <th>adjClose</th>\n",
       "      <th>adjHigh</th>\n",
       "      <th>adjLow</th>\n",
       "      <th>adjOpen</th>\n",
       "      <th>adjVolume</th>\n",
       "      <th>divCash</th>\n",
       "      <th>splitFactor</th>\n",
       "    </tr>\n",
       "  </thead>\n",
       "  <tbody>\n",
       "    <tr>\n",
       "      <th>0</th>\n",
       "      <td>AAPL</td>\n",
       "      <td>2016-07-13 00:00:00+00:00</td>\n",
       "      <td>96.87</td>\n",
       "      <td>97.67</td>\n",
       "      <td>96.84</td>\n",
       "      <td>97.41</td>\n",
       "      <td>25892171</td>\n",
       "      <td>22.620448</td>\n",
       "      <td>22.807258</td>\n",
       "      <td>22.613442</td>\n",
       "      <td>22.746545</td>\n",
       "      <td>103568684</td>\n",
       "      <td>0.0</td>\n",
       "      <td>1.0</td>\n",
       "    </tr>\n",
       "    <tr>\n",
       "      <th>1</th>\n",
       "      <td>AAPL</td>\n",
       "      <td>2016-07-14 00:00:00+00:00</td>\n",
       "      <td>98.79</td>\n",
       "      <td>98.99</td>\n",
       "      <td>97.32</td>\n",
       "      <td>97.39</td>\n",
       "      <td>38918997</td>\n",
       "      <td>23.068794</td>\n",
       "      <td>23.115496</td>\n",
       "      <td>22.725529</td>\n",
       "      <td>22.741875</td>\n",
       "      <td>155675988</td>\n",
       "      <td>0.0</td>\n",
       "      <td>1.0</td>\n",
       "    </tr>\n",
       "    <tr>\n",
       "      <th>2</th>\n",
       "      <td>AAPL</td>\n",
       "      <td>2016-07-15 00:00:00+00:00</td>\n",
       "      <td>98.78</td>\n",
       "      <td>99.30</td>\n",
       "      <td>98.50</td>\n",
       "      <td>98.92</td>\n",
       "      <td>30136990</td>\n",
       "      <td>23.066458</td>\n",
       "      <td>23.187885</td>\n",
       "      <td>23.001075</td>\n",
       "      <td>23.099150</td>\n",
       "      <td>120547960</td>\n",
       "      <td>0.0</td>\n",
       "      <td>1.0</td>\n",
       "    </tr>\n",
       "    <tr>\n",
       "      <th>3</th>\n",
       "      <td>AAPL</td>\n",
       "      <td>2016-07-18 00:00:00+00:00</td>\n",
       "      <td>99.83</td>\n",
       "      <td>100.13</td>\n",
       "      <td>98.60</td>\n",
       "      <td>98.70</td>\n",
       "      <td>36493867</td>\n",
       "      <td>23.311648</td>\n",
       "      <td>23.381702</td>\n",
       "      <td>23.024426</td>\n",
       "      <td>23.047777</td>\n",
       "      <td>145975468</td>\n",
       "      <td>0.0</td>\n",
       "      <td>1.0</td>\n",
       "    </tr>\n",
       "    <tr>\n",
       "      <th>4</th>\n",
       "      <td>AAPL</td>\n",
       "      <td>2016-07-19 00:00:00+00:00</td>\n",
       "      <td>99.87</td>\n",
       "      <td>100.00</td>\n",
       "      <td>99.34</td>\n",
       "      <td>99.56</td>\n",
       "      <td>23779924</td>\n",
       "      <td>23.320988</td>\n",
       "      <td>23.351345</td>\n",
       "      <td>23.197226</td>\n",
       "      <td>23.248599</td>\n",
       "      <td>95119696</td>\n",
       "      <td>0.0</td>\n",
       "      <td>1.0</td>\n",
       "    </tr>\n",
       "  </tbody>\n",
       "</table>\n",
       "</div>"
      ],
      "text/plain": [
       "  symbol                       date  close    high    low   open    volume  \\\n",
       "0   AAPL  2016-07-13 00:00:00+00:00  96.87   97.67  96.84  97.41  25892171   \n",
       "1   AAPL  2016-07-14 00:00:00+00:00  98.79   98.99  97.32  97.39  38918997   \n",
       "2   AAPL  2016-07-15 00:00:00+00:00  98.78   99.30  98.50  98.92  30136990   \n",
       "3   AAPL  2016-07-18 00:00:00+00:00  99.83  100.13  98.60  98.70  36493867   \n",
       "4   AAPL  2016-07-19 00:00:00+00:00  99.87  100.00  99.34  99.56  23779924   \n",
       "\n",
       "    adjClose    adjHigh     adjLow    adjOpen  adjVolume  divCash  splitFactor  \n",
       "0  22.620448  22.807258  22.613442  22.746545  103568684      0.0          1.0  \n",
       "1  23.068794  23.115496  22.725529  22.741875  155675988      0.0          1.0  \n",
       "2  23.066458  23.187885  23.001075  23.099150  120547960      0.0          1.0  \n",
       "3  23.311648  23.381702  23.024426  23.047777  145975468      0.0          1.0  \n",
       "4  23.320988  23.351345  23.197226  23.248599   95119696      0.0          1.0  "
      ]
     },
     "execution_count": 5,
     "metadata": {},
     "output_type": "execute_result"
    }
   ],
   "source": [
    "df.head()"
   ]
  },
  {
   "cell_type": "code",
   "execution_count": 6,
   "metadata": {
    "colab": {
     "base_uri": "https://localhost:8080/",
     "height": 204
    },
    "id": "1567f509",
    "outputId": "7fef5779-767d-4958-c7ba-3053d6f716ac"
   },
   "outputs": [
    {
     "data": {
      "text/html": [
       "<div>\n",
       "<style scoped>\n",
       "    .dataframe tbody tr th:only-of-type {\n",
       "        vertical-align: middle;\n",
       "    }\n",
       "\n",
       "    .dataframe tbody tr th {\n",
       "        vertical-align: top;\n",
       "    }\n",
       "\n",
       "    .dataframe thead th {\n",
       "        text-align: right;\n",
       "    }\n",
       "</style>\n",
       "<table border=\"1\" class=\"dataframe\">\n",
       "  <thead>\n",
       "    <tr style=\"text-align: right;\">\n",
       "      <th></th>\n",
       "      <th>symbol</th>\n",
       "      <th>date</th>\n",
       "      <th>close</th>\n",
       "      <th>high</th>\n",
       "      <th>low</th>\n",
       "      <th>open</th>\n",
       "      <th>volume</th>\n",
       "      <th>adjClose</th>\n",
       "      <th>adjHigh</th>\n",
       "      <th>adjLow</th>\n",
       "      <th>adjOpen</th>\n",
       "      <th>adjVolume</th>\n",
       "      <th>divCash</th>\n",
       "      <th>splitFactor</th>\n",
       "    </tr>\n",
       "  </thead>\n",
       "  <tbody>\n",
       "    <tr>\n",
       "      <th>1252</th>\n",
       "      <td>AAPL</td>\n",
       "      <td>2021-07-02 00:00:00+00:00</td>\n",
       "      <td>139.96</td>\n",
       "      <td>140.00</td>\n",
       "      <td>137.7450</td>\n",
       "      <td>137.900</td>\n",
       "      <td>78945572</td>\n",
       "      <td>139.96</td>\n",
       "      <td>140.00</td>\n",
       "      <td>137.7450</td>\n",
       "      <td>137.900</td>\n",
       "      <td>78945572</td>\n",
       "      <td>0.0</td>\n",
       "      <td>1.0</td>\n",
       "    </tr>\n",
       "    <tr>\n",
       "      <th>1253</th>\n",
       "      <td>AAPL</td>\n",
       "      <td>2021-07-06 00:00:00+00:00</td>\n",
       "      <td>142.02</td>\n",
       "      <td>143.15</td>\n",
       "      <td>140.0700</td>\n",
       "      <td>140.070</td>\n",
       "      <td>108181793</td>\n",
       "      <td>142.02</td>\n",
       "      <td>143.15</td>\n",
       "      <td>140.0700</td>\n",
       "      <td>140.070</td>\n",
       "      <td>108181793</td>\n",
       "      <td>0.0</td>\n",
       "      <td>1.0</td>\n",
       "    </tr>\n",
       "    <tr>\n",
       "      <th>1254</th>\n",
       "      <td>AAPL</td>\n",
       "      <td>2021-07-07 00:00:00+00:00</td>\n",
       "      <td>144.57</td>\n",
       "      <td>144.89</td>\n",
       "      <td>142.6600</td>\n",
       "      <td>143.535</td>\n",
       "      <td>104911589</td>\n",
       "      <td>144.57</td>\n",
       "      <td>144.89</td>\n",
       "      <td>142.6600</td>\n",
       "      <td>143.535</td>\n",
       "      <td>104911589</td>\n",
       "      <td>0.0</td>\n",
       "      <td>1.0</td>\n",
       "    </tr>\n",
       "    <tr>\n",
       "      <th>1255</th>\n",
       "      <td>AAPL</td>\n",
       "      <td>2021-07-08 00:00:00+00:00</td>\n",
       "      <td>143.24</td>\n",
       "      <td>144.06</td>\n",
       "      <td>140.6650</td>\n",
       "      <td>141.580</td>\n",
       "      <td>105575458</td>\n",
       "      <td>143.24</td>\n",
       "      <td>144.06</td>\n",
       "      <td>140.6650</td>\n",
       "      <td>141.580</td>\n",
       "      <td>105575458</td>\n",
       "      <td>0.0</td>\n",
       "      <td>1.0</td>\n",
       "    </tr>\n",
       "    <tr>\n",
       "      <th>1256</th>\n",
       "      <td>AAPL</td>\n",
       "      <td>2021-07-09 00:00:00+00:00</td>\n",
       "      <td>145.11</td>\n",
       "      <td>145.65</td>\n",
       "      <td>142.6522</td>\n",
       "      <td>142.750</td>\n",
       "      <td>99890800</td>\n",
       "      <td>145.11</td>\n",
       "      <td>145.65</td>\n",
       "      <td>142.6522</td>\n",
       "      <td>142.750</td>\n",
       "      <td>99890800</td>\n",
       "      <td>0.0</td>\n",
       "      <td>1.0</td>\n",
       "    </tr>\n",
       "  </tbody>\n",
       "</table>\n",
       "</div>"
      ],
      "text/plain": [
       "     symbol                       date   close    high       low     open  \\\n",
       "1252   AAPL  2021-07-02 00:00:00+00:00  139.96  140.00  137.7450  137.900   \n",
       "1253   AAPL  2021-07-06 00:00:00+00:00  142.02  143.15  140.0700  140.070   \n",
       "1254   AAPL  2021-07-07 00:00:00+00:00  144.57  144.89  142.6600  143.535   \n",
       "1255   AAPL  2021-07-08 00:00:00+00:00  143.24  144.06  140.6650  141.580   \n",
       "1256   AAPL  2021-07-09 00:00:00+00:00  145.11  145.65  142.6522  142.750   \n",
       "\n",
       "         volume  adjClose  adjHigh    adjLow  adjOpen  adjVolume  divCash  \\\n",
       "1252   78945572    139.96   140.00  137.7450  137.900   78945572      0.0   \n",
       "1253  108181793    142.02   143.15  140.0700  140.070  108181793      0.0   \n",
       "1254  104911589    144.57   144.89  142.6600  143.535  104911589      0.0   \n",
       "1255  105575458    143.24   144.06  140.6650  141.580  105575458      0.0   \n",
       "1256   99890800    145.11   145.65  142.6522  142.750   99890800      0.0   \n",
       "\n",
       "      splitFactor  \n",
       "1252          1.0  \n",
       "1253          1.0  \n",
       "1254          1.0  \n",
       "1255          1.0  \n",
       "1256          1.0  "
      ]
     },
     "execution_count": 6,
     "metadata": {},
     "output_type": "execute_result"
    }
   ],
   "source": [
    "df.tail()"
   ]
  },
  {
   "cell_type": "code",
   "execution_count": 7,
   "metadata": {
    "id": "fc88107a"
   },
   "outputs": [],
   "source": [
    "df1=df.reset_index()['close']"
   ]
  },
  {
   "cell_type": "code",
   "execution_count": 8,
   "metadata": {
    "colab": {
     "base_uri": "https://localhost:8080/",
     "height": 282
    },
    "id": "ab334e30",
    "outputId": "21894b29-1b36-4129-8b27-b6ce8174a2a8"
   },
   "outputs": [
    {
     "data": {
      "text/plain": [
       "[<matplotlib.lines.Line2D at 0x7f9fb3ce4820>]"
      ]
     },
     "execution_count": 8,
     "metadata": {},
     "output_type": "execute_result"
    },
    {
     "data": {
      "image/png": "[encoded data removed]",
      "text/plain": [
       "<Figure size 432x288 with 1 Axes>"
      ]
     },
     "metadata": {
      "needs_background": "light"
     },
     "output_type": "display_data"
    }
   ],
   "source": [
    "import matplotlib.pyplot as plt\n",
    "plt.plot(df1)"
   ]
  },
  {
   "cell_type": "code",
   "execution_count": 9,
   "metadata": {
    "colab": {
     "base_uri": "https://localhost:8080/"
    },
    "id": "51b7900a",
    "outputId": "86b246fa-9390-40e3-e1f6-f17d49fbf21b"
   },
   "outputs": [
    {
     "name": "stdout",
     "output_type": "stream",
     "text": [
      "[]\n"
     ]
    }
   ],
   "source": [
    "import numpy as np\n",
    "arr = np.array([[1, 2, 3, 4, 5]])\n",
    "print(arr[:-1:])"
   ]
  },
  {
   "cell_type": "code",
   "execution_count": 10,
   "metadata": {
    "id": "af17863a"
   },
   "outputs": [],
   "source": [
    "from sklearn.preprocessing import MinMaxScaler\n",
    "scaler=MinMaxScaler(feature_range=(0,1))\n",
    "df1=scaler.fit_transform(np.array(df1).reshape(-1,1))"
   ]
  },
  {
   "cell_type": "code",
   "execution_count": 11,
   "metadata": {
    "colab": {
     "base_uri": "https://localhost:8080/"
    },
    "id": "e2bc47b6",
    "outputId": "41a8e7c3-9b29-4ee4-fd1f-73463a9d9510"
   },
   "outputs": [
    {
     "data": {
      "text/plain": [
       "(1257, 1)"
      ]
     },
     "execution_count": 11,
     "metadata": {},
     "output_type": "execute_result"
    }
   ],
   "source": [
    "df1.shape"
   ]
  },
  {
   "cell_type": "code",
   "execution_count": 14,
   "metadata": {
    "id": "cea545ad"
   },
   "outputs": [],
   "source": [
    "train_size=int(len(df1)*0.70)\n",
    "test_size=len(df1)-train_size\n",
    "train_data,test_data=df1[:train_size],df1[train_size:len(df1)]"
   ]
  },
  {
   "cell_type": "code",
   "execution_count": 15,
   "metadata": {
    "id": "6ed7c9c9"
   },
   "outputs": [],
   "source": [
    "import numpy as np\n",
    "def create_dataset(dataset,time_step=1):\n",
    "    dataX,dataY=[],[]\n",
    "    for i in range(len(dataset)-time_step-1):\n",
    "        a=dataset[i:(i+time_step),0]\n",
    "        dataX.append(a)\n",
    "        dataY.append(dataset[i+time_step,0])\n",
    "    return np.array(dataX),np.array(dataY)\n"
   ]
  },
  {
   "cell_type": "code",
   "execution_count": 16,
   "metadata": {
    "colab": {
     "base_uri": "https://localhost:8080/"
    },
    "id": "3d246c6c",
    "outputId": "bb24d4b7-6749-4988-eb96-a22ff94b59e6"
   },
   "outputs": [
    {
     "name": "stdout",
     "output_type": "stream",
     "text": [
      "(808, 70)\n"
     ]
    }
   ],
   "source": [
    "time_step=70\n",
    "X_train,y_train=create_dataset(train_data,time_step)\n",
    "X_test,y_test=create_dataset(test_data,time_step)\n",
    "print(X_train.shape)"
   ]
  },
  {
   "cell_type": "code",
   "execution_count": 17,
   "metadata": {
    "id": "df662da7"
   },
   "outputs": [],
   "source": [
    "X_train=X_train.reshape(X_train.shape[0],X_train.shape[1],1)\n",
    "X_test=X_test.reshape(X_test.shape[0],X_test.shape[1],1)\n",
    "y_test=y_test.reshape(y_test.shape[0],1)\n",
    "y_train=y_train.reshape(y_train.shape[0],1)"
   ]
  },
  {
   "cell_type": "code",
   "execution_count": 18,
   "metadata": {
    "id": "44ba45bf"
   },
   "outputs": [
    {
     "ename": "ModuleNotFoundError",
     "evalue": "No module named 'torch'",
     "output_type": "error",
     "traceback": [
      "\u001b[0;31m---------------------------------------------------------------------------\u001b[0m",
      "\u001b[0;31mModuleNotFoundError\u001b[0m                       Traceback (most recent call last)",
      "\u001b[0;32m<ipython-input-18-a13658388d9e>\u001b[0m in \u001b[0;36m<module>\u001b[0;34m\u001b[0m\n\u001b[0;32m----> 1\u001b[0;31m \u001b[0;32mimport\u001b[0m \u001b[0mtorch\u001b[0m\u001b[0;34m\u001b[0m\u001b[0;34m\u001b[0m\u001b[0m\n\u001b[0m\u001b[1;32m      2\u001b[0m \u001b[0;32mimport\u001b[0m \u001b[0mtorch\u001b[0m\u001b[0;34m.\u001b[0m\u001b[0mnn\u001b[0m \u001b[0;32mas\u001b[0m \u001b[0mnn\u001b[0m\u001b[0;34m\u001b[0m\u001b[0;34m\u001b[0m\u001b[0m\n\u001b[1;32m      3\u001b[0m \u001b[0mx_train\u001b[0m\u001b[0;34m=\u001b[0m\u001b[0mtorch\u001b[0m\u001b[0;34m.\u001b[0m\u001b[0mfrom_numpy\u001b[0m\u001b[0;34m(\u001b[0m\u001b[0mX_train\u001b[0m\u001b[0;34m)\u001b[0m\u001b[0;34m.\u001b[0m\u001b[0mtype\u001b[0m\u001b[0;34m(\u001b[0m\u001b[0mtorch\u001b[0m\u001b[0;34m.\u001b[0m\u001b[0mTensor\u001b[0m\u001b[0;34m)\u001b[0m\u001b[0;34m\u001b[0m\u001b[0;34m\u001b[0m\u001b[0m\n\u001b[1;32m      4\u001b[0m \u001b[0mx_test\u001b[0m\u001b[0;34m=\u001b[0m\u001b[0mtorch\u001b[0m\u001b[0;34m.\u001b[0m\u001b[0mfrom_numpy\u001b[0m\u001b[0;34m(\u001b[0m\u001b[0mX_test\u001b[0m\u001b[0;34m)\u001b[0m\u001b[0;34m.\u001b[0m\u001b[0mtype\u001b[0m\u001b[0;34m(\u001b[0m\u001b[0mtorch\u001b[0m\u001b[0;34m.\u001b[0m\u001b[0mTensor\u001b[0m\u001b[0;34m)\u001b[0m\u001b[0;34m\u001b[0m\u001b[0;34m\u001b[0m\u001b[0m\n\u001b[1;32m      5\u001b[0m \u001b[0my_train\u001b[0m\u001b[0;34m=\u001b[0m\u001b[0mtorch\u001b[0m\u001b[0;34m.\u001b[0m\u001b[0mfrom_numpy\u001b[0m\u001b[0;34m(\u001b[0m\u001b[0my_train\u001b[0m\u001b[0;34m)\u001b[0m\u001b[0;34m.\u001b[0m\u001b[0mtype\u001b[0m\u001b[0;34m(\u001b[0m\u001b[0mtorch\u001b[0m\u001b[0;34m.\u001b[0m\u001b[0mTensor\u001b[0m\u001b[0;34m)\u001b[0m\u001b[0;34m\u001b[0m\u001b[0;34m\u001b[0m\u001b[0m\n",
      "\u001b[0;31mModuleNotFoundError\u001b[0m: No module named 'torch'"
     ]
    }
   ],
   "source": [
    "import torch\n",
    "import torch.nn as nn\n",
    "x_train=torch.from_numpy(X_train).type(torch.Tensor)\n",
    "x_test=torch.from_numpy(X_test).type(torch.Tensor)\n",
    "y_train=torch.from_numpy(y_train).type(torch.Tensor)\n",
    "y_test=torch.from_numpy(y_test).type(torch.Tensor)"
   ]
  },
  {
   "cell_type": "code",
   "execution_count": 204,
   "metadata": {
    "colab": {
     "base_uri": "https://localhost:8080/"
    },
    "id": "45053905",
    "outputId": "94511a0a-44c4-4e61-86b8-5f4cb997842a"
   },
   "outputs": [
    {
     "name": "stdout",
     "output_type": "stream",
     "text": [
      "808\n"
     ]
    }
   ],
   "source": [
    "print(x_train.size(0))\n",
    "input_dim=1\n",
    "hidden_dim=32\n",
    "num_layers=3\n",
    "output_dim=1\n",
    "num_epochs=100"
   ]
  },
  {
   "cell_type": "code",
   "execution_count": 205,
   "metadata": {
    "id": "5a177827"
   },
   "outputs": [],
   "source": [
    "class LSTM(nn.Module):\n",
    "    def __init__(self,input_dim,hidden_dim,num_layers,output_dim):\n",
    "        super(LSTM,self).__init__()\n",
    "        self.hidden_dim=hidden_dim\n",
    "        self.num_layers=num_layers\n",
    "        self.lstm=nn.LSTM(input_dim,hidden_dim,num_layers,batch_first=True)\n",
    "        self.fc=nn.Linear(hidden_dim,output_dim)\n",
    "    def forward(self,x):\n",
    "        h0=torch.zeros(self.num_layers,x.size(0),self.hidden_dim).requires_grad_()\n",
    "        c0=torch.zeros(self.num_layers,x.size(0),self.hidden_dim).requires_grad_()\n",
    "        out,(hn,cn)=self.lstm(x,(h0.detach(),c0.detach()))\n",
    "        out=self.fc(out[:,-1,:])\n",
    "        return out\n",
    "        "
   ]
  },
  {
   "cell_type": "code",
   "execution_count": 206,
   "metadata": {
    "id": "483b6cfc"
   },
   "outputs": [],
   "source": [
    "model=LSTM(input_dim=input_dim,hidden_dim=hidden_dim,output_dim=output_dim,num_layers=num_layers)\n",
    "criterion=torch.nn.MSELoss(reduction='mean')\n",
    "optimiser=torch.optim.Adam(model.parameters(),lr=0.01)"
   ]
  },
  {
   "cell_type": "code",
   "execution_count": 207,
   "metadata": {
    "colab": {
     "base_uri": "https://localhost:8080/"
    },
    "id": "e90c3e7a",
    "outputId": "278445af-a65e-44b0-ad56-2696bbe49459"
   },
   "outputs": [
    {
     "name": "stdout",
     "output_type": "stream",
     "text": [
      "Epoch  0 MSE:  0.017623132094740868\n",
      "Epoch  10 MSE:  0.008468744345009327\n",
      "Epoch  20 MSE:  0.008105892688035965\n",
      "Epoch  30 MSE:  0.0038293024990707636\n",
      "Epoch  40 MSE:  0.0012060421286150813\n",
      "Epoch  50 MSE:  0.0003543385537341237\n",
      "Epoch  60 MSE:  0.0002954488736577332\n",
      "Epoch  70 MSE:  0.00020017102360725403\n",
      "Epoch  80 MSE:  0.00014972637291066349\n",
      "Epoch  90 MSE:  0.00014584707969333977\n",
      "Training time: 48.0451500415802\n"
     ]
    }
   ],
   "source": [
    "import time\n",
    "hist=np.zeros(num_epochs)\n",
    "start_time=time.time()\n",
    "for t in range(num_epochs):\n",
    "    y_train_pred=model.forward(x_train)\n",
    "    loss=criterion(y_train_pred,y_train)\n",
    "    if(t%10==0):\n",
    "        print(\"Epoch \", t, \"MSE: \", loss.item())\n",
    "    hist[t]=loss.item()\n",
    "    optimiser.zero_grad()\n",
    "    loss.backward()\n",
    "    optimiser.step()\n",
    "training_time=time.time()-start_time\n",
    "print(\"Training time: {}\".format(training_time))"
   ]
  },
  {
   "cell_type": "code",
   "execution_count": 208,
   "metadata": {
    "id": "d661e7ad"
   },
   "outputs": [],
   "source": [
    "train_predict=model(x_train)\n",
    "test_predict=model(x_test)\n"
   ]
  },
  {
   "cell_type": "code",
   "execution_count": 209,
   "metadata": {
    "id": "120d68c7"
   },
   "outputs": [],
   "source": [
    "# y_test.resize(y_test.shape[0],1)\n",
    "train_predict=train_predict.detach().numpy()\n",
    "test_predict=test_predict.detach().numpy()\n",
    "\n"
   ]
  },
  {
   "cell_type": "code",
   "execution_count": 210,
   "metadata": {
    "id": "b4c1804a"
   },
   "outputs": [],
   "source": [
    "# TRANSFORMING TRAIN_PREDICT IN THEIR REAL VALUES\n",
    "train_predict=scaler.inverse_transform(train_predict)\n",
    "test_predict=scaler.inverse_transform(test_predict)\n",
    "y_train_x=scaler.inverse_transform(y_train)\n",
    "y_test_x=scaler.inverse_transform(y_test)"
   ]
  },
  {
   "cell_type": "code",
   "execution_count": 211,
   "metadata": {
    "colab": {
     "base_uri": "https://localhost:8080/"
    },
    "id": "zPm3xv1QlJBS",
    "outputId": "5c784a87-ea8f-4e47-c450-f0429438bf1b"
   },
   "outputs": [
    {
     "data": {
      "text/plain": [
       "38.05960991361638"
      ]
     },
     "execution_count": 211,
     "metadata": {
      "tags": []
     },
     "output_type": "execute_result"
    }
   ],
   "source": [
    "import math\n",
    "from sklearn.metrics import mean_squared_error\n",
    "math.sqrt(mean_squared_error(y_test_x,test_predict))\n"
   ]
  },
  {
   "cell_type": "code",
   "execution_count": 212,
   "metadata": {
    "colab": {
     "base_uri": "https://localhost:8080/",
     "height": 513
    },
    "id": "cc241b10",
    "outputId": "ec15bf90-6b39-46da-d43b-b6fc34800e5a"
   },
   "outputs": [
    {
     "data": {
      "image/png": "[encoded data removed]",
      "text/plain": [
       "<Figure size 1440x576 with 1 Axes>"
      ]
     },
     "metadata": {
      "needs_background": "light",
      "tags": []
     },
     "output_type": "display_data"
    }
   ],
   "source": [
    "# Visualising the results\n",
    "figure, axes = plt.subplots(figsize=(20, 8))\n",
    "axes.xaxis_date()\n",
    "\n",
    "axes.plot(df[len(df)-len(y_test):].index, y_test_x, color = 'red', label = 'Real Apple stock price')\n",
    "axes.plot(df[len(df)-len(y_test):].index, test_predict, color = 'blue', label = 'Predicted APPLE Stock Price')\n",
    "# axes.xticks(np.arange(0,394,50))\n",
    "plt.title('APPLE Stock Price Prediction')\n",
    "plt.xlabel('Time')\n",
    "plt.ylabel('APPLE Stock Price')\n",
    "plt.legend()\n",
    "plt.savefig('APPLE_pred.png')\n",
    "# plt.plot(train_predict,color='red')\n",
    "# plt.plot(y_train_x,color='blue')\n",
    "plt.show()"
   ]
  },
  {
   "cell_type": "code",
   "execution_count": 215,
   "metadata": {
    "id": "bf4b4f46"
   },
   "outputs": [],
   "source": [
    "# next 30 days prediction\n",
    "x_input=test_data[308:]\n",
    "temp_input=np.array(x_input)"
   ]
  },
  {
   "cell_type": "code",
   "execution_count": 216,
   "metadata": {
    "id": "Dju61ZewqgZW"
   },
   "outputs": [],
   "source": [
    "temp_input=temp_input.reshape(1,-1)\n",
    "temp_input=list(temp_input)\n"
   ]
  },
  {
   "cell_type": "code",
   "execution_count": 217,
   "metadata": {
    "id": "JdT-NoNvxena"
   },
   "outputs": [],
   "source": [
    "temp_input=temp_input[0].tolist()"
   ]
  },
  {
   "cell_type": "code",
   "execution_count": 218,
   "metadata": {
    "colab": {
     "base_uri": "https://localhost:8080/"
    },
    "id": "QmhIDr3Vq3rz",
    "outputId": "ab4f3ec4-4009-48af-d166-ef0567cb6b66"
   },
   "outputs": [
    {
     "name": "stdout",
     "output_type": "stream",
     "text": [
      "[[0.09277479350566864], [0.09351740777492523], [0.09379738569259644], [0.09384165704250336], [0.09378673881292343], [0.09369707107543945], [0.09359852969646454], [0.09349988400936127], [0.09340333938598633], [0.09330902248620987], [0.09321654587984085], [0.09312558174133301], [0.09303587675094604], [0.09294727444648743], [0.09285971522331238], [0.09277311712503433], [0.09268748015165329], [0.09260277450084686], [0.09251899272203445], [0.09243610501289368], [0.09235414117574692], [0.0922730565071106], [0.0921928659081459], [0.09211353957653046], [0.09203507751226425], [0.09195749461650848], [0.09188076853752136], [0.0918048620223999], [0.09172980487346649], [0.09165558964014053]]\n"
     ]
    }
   ],
   "source": [
    "from numpy import array\n",
    "fut_output=[]\n",
    "i=0\n",
    "n_steps=70\n",
    "while(i<30):\n",
    "  if(len(temp_input)>n_steps):\n",
    "      x_input=temp_input[1:]\n",
    "      x_input=np.array(x_input)\n",
    "      x_input=x_input.reshape((1,n_steps,1))\n",
    "      x_input=torch.from_numpy(x_input).type(torch.Tensor)\n",
    "      y_hat=model.forward(x_input)\n",
    "      y_hat=y_hat.detach().numpy()\n",
    "      temp_input.extend(y_hat[0].tolist())\n",
    "      fut_output.extend(y_hat.tolist())\n",
    "      temp_input=temp_input[1:]\n",
    "  else:\n",
    "      x_input=x_input.reshape((1,n_steps,1))\n",
    "      x_input=torch.from_numpy(x_input).type(torch.Tensor)\n",
    "      y_hat=model.forward(x_input)\n",
    "      y_hat=y_hat.detach().numpy()\n",
    "      temp_input.extend(y_hat[0].tolist())\n",
    "      fut_output.extend(y_hat.tolist())\n",
    "  i=i+1\n",
    "print(fut_output)\n",
    "    \n",
    "\n",
    "\n"
   ]
  },
  {
   "cell_type": "code",
   "execution_count": 219,
   "metadata": {
    "id": "RjMsS9BDzkiY"
   },
   "outputs": [],
   "source": [
    "day_new=np.arange(1,101)\n",
    "day_pred=np.arange(101,131)\n"
   ]
  },
  {
   "cell_type": "code",
   "execution_count": 220,
   "metadata": {
    "colab": {
     "base_uri": "https://localhost:8080/"
    },
    "id": "PciA-C49zrAi",
    "outputId": "c78974a4-c94a-4dbd-e90a-ea3678fda642"
   },
   "outputs": [
    {
     "data": {
      "text/plain": [
       "1257"
      ]
     },
     "execution_count": 220,
     "metadata": {
      "tags": []
     },
     "output_type": "execute_result"
    }
   ],
   "source": [
    "len(df1)"
   ]
  },
  {
   "cell_type": "code",
   "execution_count": 221,
   "metadata": {
    "colab": {
     "base_uri": "https://localhost:8080/",
     "height": 282
    },
    "id": "GWuP7g0Hztuf",
    "outputId": "94c2e7e7-6b58-42b7-9349-56d25786245e"
   },
   "outputs": [
    {
     "data": {
      "text/plain": [
       "[<matplotlib.lines.Line2D at 0x7f2c39530090>]"
      ]
     },
     "execution_count": 221,
     "metadata": {
      "tags": []
     },
     "output_type": "execute_result"
    },
    {
     "data": {
      "image/png": "[encoded data removed]",
      "text/plain": [
       "<Figure size 432x288 with 1 Axes>"
      ]
     },
     "metadata": {
      "needs_background": "light",
      "tags": []
     },
     "output_type": "display_data"
    }
   ],
   "source": [
    "plt.plot(day_new,scaler.inverse_transform(df1[1157:]))\n",
    "plt.plot(day_pred,scaler.inverse_transform(fut_output))"
   ]
  },
  {
   "cell_type": "code",
   "execution_count": 222,
   "metadata": {
    "colab": {
     "base_uri": "https://localhost:8080/",
     "height": 282
    },
    "id": "0X83-DiV0TRS",
    "outputId": "cc34fa2a-539d-4826-ef10-8a98c547e199"
   },
   "outputs": [
    {
     "data": {
      "text/plain": [
       "[<matplotlib.lines.Line2D at 0x7f2c3968b990>]"
      ]
     },
     "execution_count": 222,
     "metadata": {
      "tags": []
     },
     "output_type": "execute_result"
    },
    {
     "data": {
      "image/png": "[encoded data removed]",
      "text/plain": [
       "<Figure size 432x288 with 1 Axes>"
      ]
     },
     "metadata": {
      "needs_background": "light",
      "tags": []
     },
     "output_type": "display_data"
    }
   ],
   "source": [
    "df3=df1.tolist()\n",
    "df3.extend(fut_output)\n",
    "plt.plot(df3[1200:])"
   ]
  },
  {
   "cell_type": "code",
   "execution_count": 223,
   "metadata": {
    "colab": {
     "base_uri": "https://localhost:8080/",
     "height": 282
    },
    "id": "wh5jgrY-0zfz",
    "outputId": "7e890902-f6f2-4d13-8f47-f6f313e71947"
   },
   "outputs": [
    {
     "data": {
      "text/plain": [
       "[<matplotlib.lines.Line2D at 0x7f2c394785d0>]"
      ]
     },
     "execution_count": 223,
     "metadata": {
      "tags": []
     },
     "output_type": "execute_result"
    },
    {
     "data": {
      "image/png": "[encoded data removed]",
      "text/plain": [
       "<Figure size 432x288 with 1 Axes>"
      ]
     },
     "metadata": {
      "needs_background": "light",
      "tags": []
     },
     "output_type": "display_data"
    }
   ],
   "source": [
    "df3=scaler.inverse_transform(df3).tolist()\n",
    "plt.plot(df3)"
   ]
  }
 ],
 "metadata": {
  "colab": {
   "name": "Untitled.ipynb",
   "provenance": []
  },
  "kernelspec": {
   "display_name": "Python 3",
   "language": "python",
   "name": "python3"
  },
  "language_info": {
   "codemirror_mode": {
    "name": "ipython",
    "version": 3
   },
   "file_extension": ".py",
   "mimetype": "text/x-python",
   "name": "python",
   "nbconvert_exporter": "python",
   "pygments_lexer": "ipython3",
   "version": "3.8.5"
  }
 },
 "nbformat": 4,
 "nbformat_minor": 5
}
